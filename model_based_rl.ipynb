{
 "cells": [
  {
   "cell_type": "code",
   "execution_count": 1,
   "metadata": {},
   "outputs": [],
   "source": [
    "%matplotlib inline\n",
    "import numpy as np\n",
    "import gym\n",
    "from tqdm import tqdm # progress bar\n",
    "import matplotlib.pyplot as plt"
   ]
  },
  {
   "cell_type": "markdown",
   "metadata": {},
   "source": [
    "# Intro\n",
    "Describe what cartpole is here"
   ]
  },
  {
   "cell_type": "markdown",
   "metadata": {},
   "source": [
    "Let's explore the model-based approach. Suppose *s*, *a*, and *s'* denote state, action and the next state respectively. We will learn the function that maps *(s, a) -> s'*. Then we will select actions using the dynamics model to evaluate future states."
   ]
  },
  {
   "cell_type": "markdown",
   "metadata": {},
   "source": [
    "a) In order to learn the dynamics model for the environment, you must first collect data *(s, a) -> s'*. Fill in the following function to gather a dataset. Starting with initial state, sample an action randomly, step the environment to get the next state. Repeat until the episode is over. Perfrom this procedure for num_rollouts episodes. "
   ]
  },
  {
   "cell_type": "code",
   "execution_count": 2,
   "metadata": {},
   "outputs": [
    {
     "name": "stdout",
     "output_type": "stream",
     "text": [
      "\u001b[33mWARN: gym.spaces.Box autodetected dtype as <class 'numpy.float32'>. Please provide explicit dtype.\u001b[0m\n"
     ]
    }
   ],
   "source": [
    "env = gym.make('CartPole-v0')\n",
    "max_rollout_length = 200\n",
    "\n",
    "def gather_random_dataset(num_rollouts):\n",
    "    states, actions, next_states = [], [], []\n",
    "    for _ in tqdm(range(num_rollouts)):\n",
    "            state = env.reset()\n",
    "            done = False\n",
    "            t = 0\n",
    "            while not done:\n",
    "                action = np.random.choice([0, 1]) # flip a coin to sample a random action. Valid action is either 0 or 1\n",
    "                next_state, reward, done, _ = env.step(action)\n",
    "                done = done or (t >= max_rollout_length)\n",
    "                # save the data to corresponding arrays\n",
    "                states.append(state)\n",
    "                actions.append(action)\n",
    "                next_states.append(next_state)\n",
    "                state = next_state\n",
    "                t += 1\n",
    "    return np.array(states), np.array(actions)[:, None], np.array(next_states)\n"
   ]
  },
  {
   "cell_type": "code",
   "execution_count": 3,
   "metadata": {},
   "outputs": [
    {
     "name": "stderr",
     "output_type": "stream",
     "text": [
      "100%|██████████| 100/100 [00:00<00:00, 1964.21it/s]"
     ]
    },
    {
     "name": "stdout",
     "output_type": "stream",
     "text": [
      "(2138, 4)\n",
      "(2138, 1)\n"
     ]
    },
    {
     "name": "stderr",
     "output_type": "stream",
     "text": [
      "\n"
     ]
    }
   ],
   "source": [
    "states, actions, next_states = gather_random_dataset(100)\n",
    "print(states.shape)\n",
    "print(actions.shape)"
   ]
  },
  {
   "cell_type": "markdown",
   "metadata": {},
   "source": [
    "b) You will now model the environment with a polynomial dynamics function. First, augment the state with two additional features partiuclarly useful for this problem - cosine and sine of theta. Then concatenate augmented states and actions, and use those as input to make polynomial features. Fit the polynomial coefficients using OLS."
   ]
  },
  {
   "cell_type": "code",
   "execution_count": 4,
   "metadata": {},
   "outputs": [
    {
     "name": "stderr",
     "output_type": "stream",
     "text": [
      "/Users/maksimivanov/anaconda/envs/py3/lib/python3.6/site-packages/ipykernel_launcher.py:23: FutureWarning: `rcond` parameter will change to the default of machine precision times ``max(M, N)`` where M and N are the input matrix dimensions.\n",
      "To use the future default and silence this warning we advise to pass `rcond=None`, to keep using the old, explicitly pass `rcond=-1`.\n"
     ]
    },
    {
     "data": {
      "text/plain": [
       "<matplotlib.legend.Legend at 0x109babfd0>"
      ]
     },
     "execution_count": 4,
     "metadata": {},
     "output_type": "execute_result"
    },
    {
     "data": {
      "image/png": "[encoded data removed]",
      "text/plain": [
       "<matplotlib.figure.Figure at 0x114830c18>"
      ]
     },
     "metadata": {},
     "output_type": "display_data"
    }
   ],
   "source": [
    "from sklearn.preprocessing import PolynomialFeatures\n",
    "from sklearn.model_selection import train_test_split\n",
    "from sklearn.metrics import mean_squared_error\n",
    "\n",
    "\n",
    "train_mses = []\n",
    "test_mses = []\n",
    "\n",
    "# augment observation cos(theta) and sin(theta)\n",
    "states_aug = np.concatenate([states, np.cos(states[: , -2])[:, None], np.sin(states[: , -2])[:, None]],\n",
    "                            axis = 1)\n",
    "# concatenate state and action \n",
    "s_a = np.concatenate([states_aug, actions], axis = 1)\n",
    "y = next_states\n",
    "models = dict()\n",
    "\n",
    "# make polynomial features from concatenated state-action\n",
    "for deg in range(1, 8):\n",
    "    polyFeatures = PolynomialFeatures(degree=deg)\n",
    "    X = polyFeatures.fit_transform(s_a)\n",
    "    X_train, X_test, y_train, y_test = train_test_split(X, y, test_size=0.9, shuffle=True)\n",
    "    # our environment is noiseless so OLS will work\n",
    "    w, _, _, _ = np.linalg.lstsq(X_train, y_train)\n",
    "    models[deg] = (w, deg)\n",
    "    y_pred = np.matmul(X_test,w)\n",
    "    # compute error\n",
    "    mse_test = mean_squared_error(y_test, y_pred)\n",
    "    mse_train = mean_squared_error(y_train, np.matmul(X_train,w))\n",
    "    train_mses.append(mse_train)\n",
    "    test_mses.append(mse_test)\n",
    "\n",
    "plt.figure()\n",
    "xs = list(range(1,8))\n",
    "plt.semilogy(xs, train_mses, label = 'train')\n",
    "plt.semilogy(xs, test_mses, label = 'test')\n",
    "plt.legend()\n"
   ]
  },
  {
   "cell_type": "code",
   "execution_count": 5,
   "metadata": {},
   "outputs": [],
   "source": [
    "coeff, deg = models[4]\n",
    "polyFeatures = PolynomialFeatures(degree=deg)\n",
    "theta_threshold_radians = 12 * 4 * np.pi / 360\n",
    "x_threshold = 10\n",
    "\n",
    "def predict_next_states(states, actions):\n",
    "    states_aug = np.concatenate([states, np.cos(states[: , 2])[:, None], np.sin(states[: , 2])[:, None]], axis = 1)\n",
    "    s_a = np.concatenate([states_aug, actions[:, None]], axis = 1)\n",
    "    X = polyFeatures.fit_transform(s_a)\n",
    "    pred = np.matmul(X, coeff)\n",
    "    pred = np.clip(pred, -10, 10)\n",
    "    return pred\n",
    "\n",
    "def compute_rewards(states):\n",
    "    x = states[:, 0]\n",
    "    theta = states[:, 2]\n",
    "    failed_x =  np.logical_or(x < -x_threshold, x > x_threshold)\n",
    "    failed_theta = np.logical_or(theta < -theta_threshold_radians, theta > theta_threshold_radians)\n",
    "    return np.logical_not(np.logical_or(failed_x, failed_theta)).astype(np.int32)\n",
    "\n",
    "def reward_fn(states):\n",
    "    x = states[:, 0]\n",
    "    theta = states[:, 2]\n",
    "    x_reward = np.min((x_threshold + x, x_threshold - x), axis = 0)\n",
    "    theta_reward = np.min(((theta_threshold_radians + theta, theta_threshold_radians - theta)), axis= 0)\n",
    "    return x_reward + theta_reward\n",
    "    \n",
    "# def plan_random(state, horizon=30):\n",
    "#     total_rewards = np.zeros(2)\n",
    "#     prev_states = np.vstack([state, state])\n",
    "#     for i in range(horizon):\n",
    "#         actions = np.random.choice([0, 1], size=2)\n",
    "#         next_states = predict_next_states(prev_states, actions)\n",
    "#         rewards = cost_fn(next_states)\n",
    "#         total_rewards += rewards\n",
    "#         prev_states = next_states\n",
    "#     return np.argmax(total_rewards)\n",
    "\n",
    "def unroll(state, horizon):\n",
    "    # print('horizon', horizon)\n",
    "    cur_state_cost = reward_fn(state[None, :])\n",
    "    if horizon == 0 or cur_state_cost <= 0:\n",
    "        return cur_state_cost\n",
    "    prev_states = np.vstack([state, state])\n",
    "    actions = np.array([0, 1])\n",
    "    next_states = predict_next_states(prev_states, actions)\n",
    "    rewards = [unroll(next_states[0, :], horizon - 1), unroll(next_states[1, :], horizon - 1)]\n",
    "    return reward_fn(state[None, :]) + np.max(rewards)\n",
    "\n",
    "def plan(state, horizon=5):\n",
    "    prev_states = np.vstack([state, state])\n",
    "    actions = np.array([0, 1])\n",
    "    next_states = predict_next_states(prev_states, actions)\n",
    "    rewards = [unroll(next_states[0, :], horizon - 1), unroll(next_states[1, :], horizon - 1)]\n",
    "    return np.argmax(rewards)\n",
    "        \n",
    "\n",
    "                "
   ]
  },
  {
   "cell_type": "code",
   "execution_count": null,
   "metadata": {},
   "outputs": [
    {
     "name": "stdout",
     "output_type": "stream",
     "text": [
      "Episode: 0\n",
      "Return: 200.0\n",
      "Episode: 1\n",
      "Return: 200.0\n",
      "Episode: 2\n",
      "Return: 200.0\n"
     ]
    }
   ],
   "source": [
    "def gather_rollouts(num_rollouts, horizon=3):\n",
    "    states, actions, next_states = [], [], []\n",
    "    for e in range(num_rollouts):\n",
    "            state = env.reset()\n",
    "            done = False\n",
    "            t = 0\n",
    "            r  = 0\n",
    "            while not done:\n",
    "                action = plan(state, horizon) # flip a coin to sample a random action. Valid action is either 0 or 1\n",
    "                next_state, reward, done, _ = env.step(action)\n",
    "                done = done or (t >= max_rollout_length)\n",
    "                # save the data to corresponding arrays\n",
    "                if not done:\n",
    "                    states.append(state)\n",
    "                    actions.append(action)\n",
    "                    next_states.append(next_state)\n",
    "                    state = next_state\n",
    "                r += reward\n",
    "                t += 1\n",
    "            print('Episode:', e)\n",
    "            print('Return:', r)\n",
    "    #return np.array(states), np.array(actions)[:, None], np.array(next_states)\n",
    "\n",
    "gather_rollouts(100, 3)"
   ]
  },
  {
   "cell_type": "code",
   "execution_count": null,
   "metadata": {},
   "outputs": [],
   "source": []
  },
  {
   "cell_type": "code",
   "execution_count": null,
   "metadata": {},
   "outputs": [],
   "source": []
  }
 ],
 "metadata": {
  "kernelspec": {
   "display_name": "Python 3",
   "language": "python",
   "name": "python3"
  },
  "language_info": {
   "codemirror_mode": {
    "name": "ipython",
    "version": 3
   },
   "file_extension": ".py",
   "mimetype": "text/x-python",
   "name": "python",
   "nbconvert_exporter": "python",
   "pygments_lexer": "ipython3",
   "version": "3.6.3"
  }
 },
 "nbformat": 4,
 "nbformat_minor": 2
}
